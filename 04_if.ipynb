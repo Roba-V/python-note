{
 "cells": [
  {
   "cell_type": "markdown",
   "source": [
    "# 4 章 IF"
   ],
   "metadata": {
    "collapsed": false,
    "pycharm": {
     "name": "#%% md\n"
    }
   }
  },
  {
   "cell_type": "code",
   "execution_count": 1,
   "outputs": [
    {
     "name": "stdout",
     "output_type": "stream",
     "text": [
      "a は10以上\n"
     ]
    }
   ],
   "source": [
    "a = 7\n",
    "if a >= 10:\n",
    "    print('a は10以上')\n",
    "elif 0 <= a < 10:\n",
    "    print('a は0以上且つ10未満')\n",
    "else:\n",
    "    print('a は0未満')\n"
   ],
   "metadata": {
    "collapsed": false,
    "pycharm": {
     "name": "#%%\n"
    }
   }
  },
  {
   "cell_type": "markdown",
   "source": [
    "## ネスト"
   ],
   "metadata": {
    "collapsed": false,
    "pycharm": {
     "name": "#%% md\n"
    }
   }
  },
  {
   "cell_type": "code",
   "execution_count": 4,
   "outputs": [
    {
     "name": "stdout",
     "output_type": "stream",
     "text": [
      "雨が降る。 微風。\n"
     ]
    }
   ],
   "source": [
    "rain = True\n",
    "wind = False\n",
    "if rain:\n",
    "    print('雨が降る。', end=' ')\n",
    "    if wind:\n",
    "        print('風が強い。')\n",
    "    else:\n",
    "        print('微風。')\n",
    "else:\n",
    "    print('雨が降らない。', end=' ')\n",
    "    if wind:\n",
    "        print('風が強い。')\n",
    "    else:\n",
    "        print('微風。')"
   ],
   "metadata": {
    "collapsed": false,
    "pycharm": {
     "name": "#%%\n"
    }
   }
  },
  {
   "cell_type": "code",
   "execution_count": 3,
   "outputs": [
    {
     "name": "stdout",
     "output_type": "stream",
     "text": [
      "雨が降る。 微風。\n"
     ]
    }
   ],
   "source": [
    "if rain and wind:\n",
    "    print('雨が降る。', '風が強い。')\n",
    "elif rain and not wind:\n",
    "    print('雨が降る。', '微風。')\n",
    "elif not rain and wind:\n",
    "    print('雨が降らない。', '風が強い。')\n",
    "else:\n",
    "    print('雨が降らない。', '微風。')\n"
   ],
   "metadata": {
    "collapsed": false,
    "pycharm": {
     "name": "#%%\n"
    }
   }
  }
 ],
 "metadata": {
  "kernelspec": {
   "display_name": "Python 3",
   "language": "python",
   "name": "python3"
  },
  "language_info": {
   "codemirror_mode": {
    "name": "ipython",
    "version": 2
   },
   "file_extension": ".py",
   "mimetype": "text/x-python",
   "name": "python",
   "nbconvert_exporter": "python",
   "pygments_lexer": "ipython2",
   "version": "2.7.6"
  }
 },
 "nbformat": 4,
 "nbformat_minor": 0
}