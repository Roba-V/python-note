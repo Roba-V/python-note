{
 "cells": [
  {
   "cell_type": "markdown",
   "source": [
    "# 1 章 Python の基本\n"
   ],
   "metadata": {
    "collapsed": false,
    "pycharm": {
     "name": "#%% md\n"
    }
   }
  },
  {
   "cell_type": "markdown",
   "source": [
    "## コメント\n"
   ],
   "metadata": {
    "collapsed": false,
    "pycharm": {
     "name": "#%% md\n"
    }
   }
  },
  {
   "cell_type": "code",
   "execution_count": 1,
   "outputs": [
    {
     "name": "stdout",
     "output_type": "stream",
     "text": [
      "コメントのテスト\n"
     ]
    },
    {
     "data": {
      "text/plain": "'ヒアドキュメント\\n\\n複数行コメントです。\\n'"
     },
     "execution_count": 1,
     "metadata": {},
     "output_type": "execute_result"
    }
   ],
   "source": [
    "# 一行コメントです。\n",
    "\n",
    "print('コメントのテスト')   # これもコメントです。\n",
    "\n",
    "\"\"\"ヒアドキュメント\n",
    "\n",
    "複数行コメントです。\n",
    "\"\"\""
   ],
   "metadata": {
    "collapsed": false,
    "pycharm": {
     "name": "#%%\n"
    }
   }
  },
  {
   "cell_type": "markdown",
   "source": [
    "## ドックストリング\n"
   ],
   "metadata": {
    "collapsed": false,
    "pycharm": {
     "name": "#%% md\n"
    }
   }
  },
  {
   "cell_type": "code",
   "execution_count": 2,
   "outputs": [
    {
     "name": "stdout",
     "output_type": "stream",
     "text": [
      "Help on function func in module __main__:\n",
      "\n",
      "func(msg: str) -> None\n",
      "    テスト関数。\n",
      "    \n",
      "    何もしない。\n",
      "\n",
      "----------\n",
      "テスト関数。\n",
      "\n",
      "    何もしない。\n",
      "    \n"
     ]
    }
   ],
   "source": [
    "def func(msg: str) -> None:\n",
    "    \"\"\"テスト関数。\n",
    "\n",
    "    何もしない。\n",
    "    \"\"\"\n",
    "    print(\"Do nothing...\")\n",
    "\n",
    "help(func)\n",
    "print('-' * 10)\n",
    "print(func.__doc__)"
   ],
   "metadata": {
    "collapsed": false,
    "pycharm": {
     "name": "#%%\n"
    }
   }
  },
  {
   "cell_type": "markdown",
   "source": [
    "## 型\n",
    "\n",
    "Python の基本データ型一覧\n",
    "\n",
    "| 名前     | 型       | ミュータブル？ | 例                                  |\n",
    "|:-------|:--------|:-------:|:-----------------------------------|\n",
    "| ブール    | bool    |    ×    | True, False                        |\n",
    "| 整数     | int     |    ×    | 0, 341, 41_000_000, -11            |\n",
    "| 浮動小数点数 | float   |    ×    | 8.26, -0.1, 0., .5, 9.5e3, 3E5     |\n",
    "| 複素数    | complex |    ×    | 9j, 7 + 2j                         |\n",
    "| 文字列    | str     |    ×    | 'xy', \"I'm 16.\", \"\"\"a function\"\"\"  |\n",
    "| タプル    | tuple   |    ×    | (), (3, 9), 'here',                |\n",
    "| リスト    | list    |    ○    | [], [3, 'tom'], [[32, 67], 32, 32] |\n",
    "| 辞書     | dict    |    ○    | {}, {'age': 16, 'name': 'Tom'}     |\n",
    "| 集合     | set     |    ○    | {3, 9}                             |\n"
   ],
   "metadata": {
    "collapsed": false,
    "pycharm": {
     "name": "#%% md\n"
    }
   }
  },
  {
   "cell_type": "markdown",
   "source": [
    "## 変数\n",
    "\n",
    "変数名の命名規則：\n",
    "- 使用可能な文字は、英数字とアンダースコア（_）である。\n",
    "- 大文字と小文字は区別する。\n",
    "- 先頭の文字は数字が使用できない。\n",
    "- Python の予約語は使用できない。\n",
    "\n",
    "有効な変数名:\n",
    "\n",
    "```\n",
    "a\n",
    "a3\n",
    "call_times\n",
    "DB_NAME\n",
    "_hello_32\n",
    "```\n",
    "\n",
    "無効な変数名:\n",
    "\n",
    "```\n",
    "2b\n",
    "he=\n",
    "my-name\n",
    "8_\n",
    "```\n",
    "\n",
    "**特別な変数名**\n",
    "- アンダースコア（_）で始まる変数は、モジュールからワイルドカード（*）でインポートされない。\n",
    "- クラス内に二つのアンダースコア（__）で始まる識別子（プロパティ名やメソッド名）は、プライベート識別子になる。\n"
   ],
   "metadata": {
    "collapsed": false,
    "pycharm": {
     "name": "#%% md\n"
    }
   }
  },
  {
   "cell_type": "markdown",
   "source": [
    "#### 予約語\n"
   ],
   "metadata": {
    "collapsed": false,
    "pycharm": {
     "name": "#%% md\n"
    }
   }
  },
  {
   "cell_type": "code",
   "execution_count": 3,
   "outputs": [
    {
     "name": "stdout",
     "output_type": "stream",
     "text": [
      "\n",
      "Here is a list of the Python keywords.  Enter any keyword to get more help.\n",
      "\n",
      "False               class               from                or\n",
      "None                continue            global              pass\n",
      "True                def                 if                  raise\n",
      "and                 del                 import              return\n",
      "as                  elif                in                  try\n",
      "assert              else                is                  while\n",
      "async               except              lambda              with\n",
      "await               finally             nonlocal            yield\n",
      "break               for                 not                 \n",
      "\n"
     ]
    }
   ],
   "source": [
    "help('keywords')\n"
   ],
   "metadata": {
    "collapsed": false,
    "pycharm": {
     "name": "#%%\n"
    }
   }
  },
  {
   "cell_type": "code",
   "execution_count": 4,
   "outputs": [
    {
     "data": {
      "text/plain": "['False',\n 'None',\n 'True',\n 'and',\n 'as',\n 'assert',\n 'async',\n 'await',\n 'break',\n 'class',\n 'continue',\n 'def',\n 'del',\n 'elif',\n 'else',\n 'except',\n 'finally',\n 'for',\n 'from',\n 'global',\n 'if',\n 'import',\n 'in',\n 'is',\n 'lambda',\n 'nonlocal',\n 'not',\n 'or',\n 'pass',\n 'raise',\n 'return',\n 'try',\n 'while',\n 'with',\n 'yield']"
     },
     "execution_count": 4,
     "metadata": {},
     "output_type": "execute_result"
    }
   ],
   "source": [
    "import keyword\n",
    "keyword.kwlist"
   ],
   "metadata": {
    "collapsed": false,
    "pycharm": {
     "name": "#%%\n"
    }
   }
  },
  {
   "cell_type": "markdown",
   "source": [
    "## 代入\n"
   ],
   "metadata": {
    "collapsed": false,
    "pycharm": {
     "name": "#%% md\n"
    }
   }
  },
  {
   "cell_type": "code",
   "execution_count": 5,
   "outputs": [],
   "source": [
    "a = 5               # 代入\n",
    "b = a + 3\n",
    "a = 12              # 再代入\n",
    "c = a               # コピー\n",
    "\n",
    "x = y = z = 100     # 複数の名前への代入\n"
   ],
   "metadata": {
    "collapsed": false,
    "pycharm": {
     "name": "#%%\n"
    }
   }
  },
  {
   "cell_type": "code",
   "execution_count": 5,
   "outputs": [],
   "source": [],
   "metadata": {
    "collapsed": false,
    "pycharm": {
     "name": "#%%\n"
    }
   }
  }
 ],
 "metadata": {
  "kernelspec": {
   "display_name": "Python 3 (ipykernel)",
   "language": "python",
   "name": "python3"
  },
  "language_info": {
   "codemirror_mode": {
    "name": "ipython",
    "version": 3
   },
   "file_extension": ".py",
   "mimetype": "text/x-python",
   "name": "python",
   "nbconvert_exporter": "python",
   "pygments_lexer": "ipython3",
   "version": "3.8.9"
  }
 },
 "nbformat": 4,
 "nbformat_minor": 1
}