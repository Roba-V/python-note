{
 "cells": [
  {
   "cell_type": "markdown",
   "source": [
    "# タプルとリスト"
   ],
   "metadata": {
    "collapsed": false,
    "pycharm": {
     "name": "#%% md\n"
    }
   }
  },
  {
   "cell_type": "markdown",
   "source": [
    "## タプル"
   ],
   "metadata": {
    "collapsed": false,
    "pycharm": {
     "name": "#%% md\n"
    }
   }
  },
  {
   "cell_type": "code",
   "execution_count": 6,
   "outputs": [
    {
     "name": "stdout",
     "output_type": "stream",
     "text": [
      "()\n",
      "('Tom',)\n",
      "('Tom', 'Lucy', 'Mary')\n",
      "Tom Lucy Mary\n"
     ]
    }
   ],
   "source": [
    "empty_tuple = ()\n",
    "print(empty_tuple)\n",
    "\n",
    "one_element = ('Tom',)\n",
    "print(one_element)\n",
    "\n",
    "elements_tuple = ('Tom', 'Lucy', 'Mary')\n",
    "print(elements_tuple)\n",
    "\n",
    "a, b, c = elements_tuple\n",
    "print(a, b, c)"
   ],
   "metadata": {
    "collapsed": false,
    "pycharm": {
     "name": "#%%\n"
    }
   }
  },
  {
   "cell_type": "code",
   "execution_count": 9,
   "outputs": [
    {
     "name": "stdout",
     "output_type": "stream",
     "text": [
      "('T', 'o', 'm')\n",
      "('Tom', 'Lucy', 'Mary')\n",
      "('Tom', 'Lucy', 'Mary')\n",
      "('Dean', 'Dean', 'Dean')\n",
      "False\n",
      "True\n"
     ]
    }
   ],
   "source": [
    "print(tuple('Tom'))\n",
    "print(tuple(['Tom', 'Lucy', 'Mary']))\n",
    "print(('Tom',) + ('Lucy', 'Mary'))\n",
    "print(('Dean',) * 3)\n",
    "\n",
    "a = (3, 6, 7)\n",
    "b = (3, 6)\n",
    "print(a == b)\n",
    "print(a > b)"
   ],
   "metadata": {
    "collapsed": false,
    "pycharm": {
     "name": "#%%\n"
    }
   }
  },
  {
   "cell_type": "code",
   "execution_count": 10,
   "outputs": [
    {
     "name": "stdout",
     "output_type": "stream",
     "text": [
      "information\n",
      "name\n",
      "old\n",
      "weight\n"
     ]
    }
   ],
   "source": [
    "words = ('information', 'name', 'old', 'weight')\n",
    "for word in words:\n",
    "    print(word)"
   ],
   "metadata": {
    "collapsed": false,
    "pycharm": {
     "name": "#%%\n"
    }
   }
  },
  {
   "cell_type": "code",
   "execution_count": 15,
   "outputs": [
    {
     "name": "stdout",
     "output_type": "stream",
     "text": [
      "4363789504\n",
      "4363896000\n"
     ]
    }
   ],
   "source": [
    "t1 = ('one', 'two')\n",
    "t2 = ('three',)\n",
    "print(id(t1))\n",
    "t1 += t2\n",
    "print(id(t1))"
   ],
   "metadata": {
    "collapsed": false,
    "pycharm": {
     "name": "#%%\n"
    }
   }
  },
  {
   "cell_type": "code",
   "execution_count": 24,
   "outputs": [
    {
     "name": "stdout",
     "output_type": "stream",
     "text": [
      "Mary\n",
      "Dick\n",
      "('Lucy', 'Mary')\n",
      "('Dick', 'Mary', 'Lucy', 'Tom')\n"
     ]
    }
   ],
   "source": [
    "test_tuple = ('Tom', 'Lucy', 'Mary', 'Dick')\n",
    "print(test_tuple[2])\n",
    "print(test_tuple[-1])\n",
    "print(test_tuple[1:3])\n",
    "print(test_tuple[::-1])"
   ],
   "metadata": {
    "collapsed": false,
    "pycharm": {
     "name": "#%%\n"
    }
   }
  },
  {
   "cell_type": "markdown",
   "source": [
    "## リスト"
   ],
   "metadata": {
    "collapsed": false,
    "pycharm": {
     "name": "#%% md\n"
    }
   }
  },
  {
   "cell_type": "code",
   "execution_count": 17,
   "outputs": [
    {
     "name": "stdout",
     "output_type": "stream",
     "text": [
      "[]\n",
      "['Monday', 'Tuesday', 'Wednesday']\n",
      "[]\n",
      "['T', 'o', 'm']\n",
      "['living']\n"
     ]
    }
   ],
   "source": [
    "empty_list_1 = []\n",
    "weekdays = ['Monday', 'Tuesday', 'Wednesday']\n",
    "empty_list_2 = list()\n",
    "people = list('Tom')\n",
    "rooms = list(('living',))\n",
    "\n",
    "print(empty_list_1)\n",
    "print(weekdays)\n",
    "print(empty_list_2)\n",
    "print(people)\n",
    "print(rooms)"
   ],
   "metadata": {
    "collapsed": false,
    "pycharm": {
     "name": "#%%\n"
    }
   }
  },
  {
   "cell_type": "code",
   "execution_count": 18,
   "outputs": [
    {
     "name": "stdout",
     "output_type": "stream",
     "text": [
      "['2022', '05', '16']\n"
     ]
    }
   ],
   "source": [
    "date = '2022/05/16'\n",
    "date_list = date.split('/')\n",
    "print(date_list)"
   ],
   "metadata": {
    "collapsed": false,
    "pycharm": {
     "name": "#%%\n"
    }
   }
  },
  {
   "cell_type": "code",
   "execution_count": 30,
   "outputs": [
    {
     "name": "stdout",
     "output_type": "stream",
     "text": [
      "['Tom', 'Lucy', 'Mary']\n",
      "['Dean', 'Dean', 'Dean']\n",
      "False\n",
      "True\n"
     ]
    }
   ],
   "source": [
    "print(['Tom'] + ['Lucy', 'Mary'])\n",
    "print(['Dean'] * 3)\n",
    "\n",
    "a = [3, 6, 7]\n",
    "b = [3, 6]\n",
    "print(a == b)\n",
    "print(a > b)"
   ],
   "metadata": {
    "collapsed": false,
    "pycharm": {
     "name": "#%%\n"
    }
   }
  },
  {
   "cell_type": "code",
   "execution_count": 34,
   "outputs": [
    {
     "name": "stdout",
     "output_type": "stream",
     "text": [
      "4364209408\n",
      "['one', 'two', 'three']\n",
      "4364209408\n",
      "['one', 'two', 'three', 'four']\n",
      "4364209408\n"
     ]
    }
   ],
   "source": [
    "l1 = ['one', 'two']\n",
    "l2 = ['three']\n",
    "l3 = ['four']\n",
    "print(id(l1))\n",
    "\n",
    "l1.extend(l2)\n",
    "print(l1)\n",
    "print(id(l1))\n",
    "\n",
    "l1 += l3\n",
    "print(l1)\n",
    "print(id(l1))"
   ],
   "metadata": {
    "collapsed": false,
    "pycharm": {
     "name": "#%%\n"
    }
   }
  },
  {
   "cell_type": "code",
   "execution_count": 27,
   "outputs": [
    {
     "name": "stdout",
     "output_type": "stream",
     "text": [
      "Mary\n",
      "Dick\n",
      "['Lucy', 'Mary']\n",
      "['Dick', 'Mary', 'Lucy', 'Tom']\n",
      "['Dick', 'Mary', 'Lucy', 'Tom']\n"
     ]
    }
   ],
   "source": [
    "test_list = ['Tom', 'Lucy', 'Mary', 'Dick']\n",
    "print(test_list[2])\n",
    "print(test_list[-1])\n",
    "print(test_list[1:3])\n",
    "print(test_list[::-1])\n",
    "test_list.reverse()\n",
    "print(test_list)"
   ],
   "metadata": {
    "collapsed": false,
    "pycharm": {
     "name": "#%%\n"
    }
   }
  },
  {
   "cell_type": "code",
   "execution_count": 28,
   "outputs": [
    {
     "name": "stdout",
     "output_type": "stream",
     "text": [
      "['Tom', 'Lucy', 'Anna', 'Mary', 'Dick', 'Cass']\n"
     ]
    }
   ],
   "source": [
    "test_list = ['Tom', 'Lucy', 'Mary', 'Dick']\n",
    "test_list.insert(2, 'Anna')\n",
    "test_list.append('Cass')\n",
    "print(test_list)"
   ],
   "metadata": {
    "collapsed": false,
    "pycharm": {
     "name": "#%%\n"
    }
   }
  },
  {
   "cell_type": "code",
   "execution_count": 47,
   "outputs": [
    {
     "name": "stdout",
     "output_type": "stream",
     "text": [
      "['Tom', 'Luna', 'Mary', 'Dick', 'Mick']\n",
      "['Tom', 'Bob', 'John', 'Mary', 'Dick', 'Mick']\n",
      "['Tom', 'Bob', 'John', 'Dick', 'Mick']\n",
      "['Tom', 'Bob', 'Dick', 'Mick']\n",
      "Mick\n",
      "['Tom', 'Bob', 'Dick']\n",
      "['Bob', 'Dick']\n",
      "[]\n"
     ]
    }
   ],
   "source": [
    "test_list = ['Tom', 'Lucy', 'Mary', 'Dick', 'Mick']\n",
    "test_list[1] = 'Luna'\n",
    "print(test_list)\n",
    "\n",
    "test_list[1:2] = ['Bob', 'John']\n",
    "print(test_list)\n",
    "\n",
    "del test_list[3]\n",
    "print(test_list)\n",
    "\n",
    "test_list.remove('John')\n",
    "print(test_list)\n",
    "\n",
    "print(test_list.pop())\n",
    "print(test_list)\n",
    "\n",
    "test_list.pop(0)\n",
    "print(test_list)\n",
    "\n",
    "test_list.clear()\n",
    "print(test_list)"
   ],
   "metadata": {
    "collapsed": false,
    "pycharm": {
     "name": "#%%\n"
    }
   }
  },
  {
   "cell_type": "code",
   "execution_count": 49,
   "outputs": [
    {
     "name": "stdout",
     "output_type": "stream",
     "text": [
      "1\n",
      "1\n"
     ]
    }
   ],
   "source": [
    "test_list = ['Tom', 'Lucy', 'Mary', 'Dick', 'Lucy', 'Mick']\n",
    "print(test_list.index('Lucy'))"
   ],
   "metadata": {
    "collapsed": false,
    "pycharm": {
     "name": "#%%\n"
    }
   }
  },
  {
   "cell_type": "code",
   "execution_count": 50,
   "outputs": [
    {
     "name": "stdout",
     "output_type": "stream",
     "text": [
      "True\n"
     ]
    }
   ],
   "source": [
    "test_list = ['Tom', 'Lucy', 'Mary', 'Dick', 'Mick']\n",
    "print('Dick' in test_list)"
   ],
   "metadata": {
    "collapsed": false,
    "pycharm": {
     "name": "#%%\n"
    }
   }
  },
  {
   "cell_type": "code",
   "execution_count": null,
   "outputs": [],
   "source": [],
   "metadata": {
    "collapsed": false,
    "pycharm": {
     "name": "#%%\n"
    }
   }
  }
 ],
 "metadata": {
  "kernelspec": {
   "display_name": "Python 3",
   "language": "python",
   "name": "python3"
  },
  "language_info": {
   "codemirror_mode": {
    "name": "ipython",
    "version": 2
   },
   "file_extension": ".py",
   "mimetype": "text/x-python",
   "name": "python",
   "nbconvert_exporter": "python",
   "pygments_lexer": "ipython2",
   "version": "2.7.6"
  }
 },
 "nbformat": 4,
 "nbformat_minor": 0
}