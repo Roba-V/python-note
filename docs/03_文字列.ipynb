{
 "cells": [
  {
   "cell_type": "markdown",
   "source": [
    "# 3 章 文字列"
   ],
   "metadata": {
    "collapsed": false,
    "pycharm": {
     "name": "#%% md\n"
    }
   }
  },
  {
   "cell_type": "markdown",
   "source": [
    "## リテラル"
   ],
   "metadata": {
    "collapsed": false,
    "pycharm": {
     "name": "#%% md\n"
    }
   }
  },
  {
   "cell_type": "code",
   "execution_count": 5,
   "outputs": [
    {
     "data": {
      "text/plain": "('Hello, world!', \"I'm Python\", '日本語', 'トリプルクォーテーション1', 'トリプルクォーテーション1')"
     },
     "execution_count": 5,
     "metadata": {},
     "output_type": "execute_result"
    }
   ],
   "source": [
    "'Hello, world!', \"I'm Python\", '日本語', '''トリプルクォーテーション1''', \"\"\"トリプルクォーテーション1\"\"\""
   ],
   "metadata": {
    "collapsed": false,
    "pycharm": {
     "name": "#%%\n"
    }
   }
  },
  {
   "cell_type": "markdown",
   "source": [
    "## ストリングプレフィックス"
   ],
   "metadata": {
    "collapsed": false,
    "pycharm": {
     "name": "#%% md\n"
    }
   }
  },
  {
   "cell_type": "code",
   "execution_count": 6,
   "outputs": [
    {
     "data": {
      "text/plain": "'My name is Tom'"
     },
     "execution_count": 6,
     "metadata": {},
     "output_type": "execute_result"
    }
   ],
   "source": [
    "name = 'Tom'\n",
    "f\"My name is {name}\""
   ],
   "metadata": {
    "collapsed": false,
    "pycharm": {
     "name": "#%%\n"
    }
   }
  },
  {
   "cell_type": "code",
   "execution_count": 7,
   "outputs": [
    {
     "data": {
      "text/plain": "'name\\\\tage\\\\n'"
     },
     "execution_count": 7,
     "metadata": {},
     "output_type": "execute_result"
    }
   ],
   "source": [
    "r\"name\\tage\\n\"  # raw 文字列"
   ],
   "metadata": {
    "collapsed": false,
    "pycharm": {
     "name": "#%%\n"
    }
   }
  },
  {
   "cell_type": "code",
   "execution_count": 8,
   "outputs": [
    {
     "data": {
      "text/plain": "'Unicode 文字列'"
     },
     "execution_count": 8,
     "metadata": {},
     "output_type": "execute_result"
    }
   ],
   "source": [
    "u\"Unicode 文字列\""
   ],
   "metadata": {
    "collapsed": false,
    "pycharm": {
     "name": "#%%\n"
    }
   }
  },
  {
   "cell_type": "code",
   "execution_count": 9,
   "outputs": [
    {
     "data": {
      "text/plain": "b'bytes'"
     },
     "execution_count": 9,
     "metadata": {},
     "output_type": "execute_result"
    }
   ],
   "source": [
    "b\"bytes\""
   ],
   "metadata": {
    "collapsed": false,
    "pycharm": {
     "name": "#%%\n"
    }
   }
  },
  {
   "cell_type": "markdown",
   "source": [
    "## str()"
   ],
   "metadata": {
    "collapsed": false,
    "pycharm": {
     "name": "#%% md\n"
    }
   }
  },
  {
   "cell_type": "code",
   "execution_count": 10,
   "outputs": [
    {
     "data": {
      "text/plain": "('ABC', '23', '2.345', '2000.0', 'True')"
     },
     "execution_count": 10,
     "metadata": {},
     "output_type": "execute_result"
    }
   ],
   "source": [
    "str('ABC'), str(23), str(2.345), str(2e3), str(True)"
   ],
   "metadata": {
    "collapsed": false,
    "pycharm": {
     "name": "#%%\n"
    }
   }
  },
  {
   "cell_type": "markdown",
   "source": [
    "## エスケープ"
   ],
   "metadata": {
    "collapsed": false,
    "pycharm": {
     "name": "#%% md\n"
    }
   }
  },
  {
   "cell_type": "code",
   "execution_count": 13,
   "outputs": [
    {
     "name": "stdout",
     "output_type": "stream",
     "text": [
      "I'm Python. He says \"Hello!\".\n",
      "a\tb\tc\n",
      "d\te\tf\\\n"
     ]
    }
   ],
   "source": [
    "print('I\\'m Python.', \"He says \\\"Hello!\\\".\")\n",
    "print('a\\tb\\tc\\nd\\te\\tf\\\\')"
   ],
   "metadata": {
    "collapsed": false,
    "pycharm": {
     "name": "#%%\n"
    }
   }
  },
  {
   "cell_type": "markdown",
   "source": [
    "## 演算"
   ],
   "metadata": {
    "collapsed": false,
    "pycharm": {
     "name": "#%% md\n"
    }
   }
  },
  {
   "cell_type": "code",
   "execution_count": 14,
   "outputs": [
    {
     "data": {
      "text/plain": "('abcabcabcabcabc', 'abcdef')"
     },
     "execution_count": 14,
     "metadata": {},
     "output_type": "execute_result"
    }
   ],
   "source": [
    "'abc' * 5, 'abc' + 'def'"
   ],
   "metadata": {
    "collapsed": false,
    "pycharm": {
     "name": "#%%\n"
    }
   }
  },
  {
   "cell_type": "markdown",
   "source": [
    "## 文字列の操作"
   ],
   "metadata": {
    "collapsed": false,
    "pycharm": {
     "name": "#%% md\n"
    }
   }
  },
  {
   "cell_type": "code",
   "execution_count": 20,
   "outputs": [
    {
     "name": "stdout",
     "output_type": "stream",
     "text": [
      "A T 20\n",
      "ABCDEFGHIJKLMNOPQRST BCD ACEGIKMOQS TSRQPONMLKJIHGFEDCBA\n"
     ]
    }
   ],
   "source": [
    "name = 'ABCDEFGHIJKLMNOPQRST'\n",
    "print(name[0], name[-1], len(name))\n",
    "print(name[:], name[1:4], name[0:-1:2], name[::-1])"
   ],
   "metadata": {
    "collapsed": false,
    "pycharm": {
     "name": "#%%\n"
    }
   }
  },
  {
   "cell_type": "markdown",
   "source": [
    "## フォーマット"
   ],
   "metadata": {
    "collapsed": false,
    "pycharm": {
     "name": "#%% md\n"
    }
   }
  },
  {
   "cell_type": "code",
   "execution_count": 5,
   "outputs": [
    {
     "name": "stdout",
     "output_type": "stream",
     "text": [
      "123 123 7b 173 123.000000 1.230000e+02\n",
      "12         %%        123\n",
      "    12.346\n"
     ]
    }
   ],
   "source": [
    "print('%s' % 123, '%d' % 123, '%x' % 123, '%o' % 123, '%f' % 123, '%e' % 123)\n",
    "print('%-10.2s' % 123, '%%', '%+10.3s' % 123)\n",
    "print('%10.3f' % 12.3456)"
   ],
   "metadata": {
    "collapsed": false,
    "pycharm": {
     "name": "#%%\n"
    }
   }
  },
  {
   "cell_type": "code",
   "execution_count": 19,
   "outputs": [
    {
     "name": "stdout",
     "output_type": "stream",
     "text": [
      "My name is Tom   and 16 year's old.\n",
      "My name is Tom and 16 year's old.\n",
      "My name is Tom and 16 year's old.\n",
      "My name is Tom and 16 year's old.\n",
      "234       \n",
      "   234    \n",
      "0000000234\n"
     ]
    }
   ],
   "source": [
    "print('My name is {:5s} and {} year\\'s old.'.format('Tom', 16))\n",
    "print('My name is {1} and {0} year\\'s old.'.format(16, 'Tom'))\n",
    "print('My name is {name} and {age} year\\'s old.'.format(name='Tom', age=16))\n",
    "print('My name is {0[name]} and {0[age]} year\\'s old.'.format({'name':'Tom', 'age':16}))\n",
    "print('{name:<10d}'.format(name=234))\n",
    "print('{name:^10d}'.format(name=234))\n",
    "print('{name:>010d}'.format(name=234))"
   ],
   "metadata": {
    "collapsed": false,
    "pycharm": {
     "name": "#%%\n"
    }
   }
  },
  {
   "cell_type": "code",
   "execution_count": 21,
   "outputs": [
    {
     "name": "stdout",
     "output_type": "stream",
     "text": [
      "My name is Tom   and 16.00 year's old.\n",
      "My name is     m and 16.00 year's old.\n"
     ]
    }
   ],
   "source": [
    "name = 'Tom'\n",
    "age = 16\n",
    "print(f'My name is {name:5s} and {age:.2f} year\\'s old.')\n",
    "print(f'My name is {name[-1]:>5s} and {age:.2f} year\\'s old.')\n"
   ],
   "metadata": {
    "collapsed": false,
    "pycharm": {
     "name": "#%%\n"
    }
   }
  }
 ],
 "metadata": {
  "kernelspec": {
   "display_name": "Python 3",
   "language": "python",
   "name": "python3"
  },
  "language_info": {
   "codemirror_mode": {
    "name": "ipython",
    "version": 2
   },
   "file_extension": ".py",
   "mimetype": "text/x-python",
   "name": "python",
   "nbconvert_exporter": "python",
   "pygments_lexer": "ipython2",
   "version": "2.7.6"
  }
 },
 "nbformat": 4,
 "nbformat_minor": 0
}