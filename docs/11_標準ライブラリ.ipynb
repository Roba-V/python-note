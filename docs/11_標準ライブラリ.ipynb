{
 "cells": [
  {
   "cell_type": "markdown",
   "source": [],
   "metadata": {
    "collapsed": false,
    "pycharm": {
     "name": "#%% md\n"
    }
   }
  },
  {
   "cell_type": "markdown",
   "source": [
    "# 11 章 標準ライブラリ"
   ],
   "metadata": {
    "collapsed": false,
    "pycharm": {
     "name": "#%% md\n"
    }
   }
  },
  {
   "cell_type": "code",
   "execution_count": 32,
   "outputs": [
    {
     "name": "stdout",
     "output_type": "stream",
     "text": [
      "5\n",
      "0\n",
      "1: {'panda': 3, 'dog': 1, 'cat': 5}\n",
      "1\n",
      "5\n",
      "2: {'panda': 3, 'dog': 1, 'cat': 5, 'tiger': 1}\n"
     ]
    }
   ],
   "source": [
    "animals = {'panda': 3, 'dog': 1, 'cat': 5}\n",
    "\n",
    "# get()\n",
    "print(animals.get('cat'))\n",
    "print(animals.get('bird', 0))\n",
    "print('1:', animals)\n",
    "\n",
    "# setdefault()\n",
    "print(animals.setdefault('tiger', 1))\n",
    "print(animals.setdefault('cat', 6))\n",
    "print('2:', animals)"
   ],
   "metadata": {
    "collapsed": false,
    "pycharm": {
     "name": "#%%\n"
    }
   }
  },
  {
   "cell_type": "code",
   "execution_count": 33,
   "outputs": [
    {
     "name": "stdout",
     "output_type": "stream",
     "text": [
      "0\n",
      "??\n",
      "?\n"
     ]
    }
   ],
   "source": [
    "# defaultdict()\n",
    "from collections import defaultdict\n",
    "\n",
    "cars = defaultdict(int)\n",
    "print(cars['mazda'])\n",
    "\n",
    "\n",
    "def no_idea():\n",
    "    return '??'\n",
    "\n",
    "\n",
    "animals = defaultdict(no_idea)\n",
    "print(animals['horse'])\n",
    "\n",
    "food = defaultdict(lambda: '?')\n",
    "print(food['pizza'])"
   ],
   "metadata": {
    "collapsed": false,
    "pycharm": {
     "name": "#%%\n"
    }
   }
  },
  {
   "cell_type": "code",
   "execution_count": 34,
   "outputs": [
    {
     "name": "stdout",
     "output_type": "stream",
     "text": [
      "Counter({'toyota': 3, 'mazda': 2, 'honda': 1})\n",
      "[('toyota', 3), ('mazda', 2), ('honda', 1)]\n",
      "[('toyota', 3)]\n",
      "Counter({'toyota': 3, 'mazda': 3, 'honda': 2, 'suzuki': 1})\n",
      "Counter({'toyota': 3, 'mazda': 1})\n",
      "Counter({'mazda': 1, 'honda': 1})\n",
      "Counter({'toyota': 3, 'mazda': 2, 'honda': 1, 'suzuki': 1})\n"
     ]
    }
   ],
   "source": [
    "# Counter\n",
    "from collections import Counter\n",
    "\n",
    "cars = ['toyota', 'mazda', 'honda', 'mazda', 'toyota', 'toyota']\n",
    "cars_counter = Counter(cars)\n",
    "print(cars_counter)\n",
    "print(cars_counter.most_common())  # 降順\n",
    "print(cars_counter.most_common(1))  # 先頭1件のみ\n",
    "\n",
    "bikes = ['mazda', 'suzuki', 'honda']\n",
    "bikes_counter = Counter(bikes)\n",
    "print(cars_counter + bikes_counter)\n",
    "print(cars_counter - bikes_counter)\n",
    "print(cars_counter & bikes_counter)  # 積集合\n",
    "print(cars_counter | bikes_counter)  # 和集合（加算せずに大きい方の値を使用）"
   ],
   "metadata": {
    "collapsed": false,
    "pycharm": {
     "name": "#%%\n"
    }
   }
  },
  {
   "cell_type": "code",
   "execution_count": 35,
   "outputs": [
    {
     "name": "stdout",
     "output_type": "stream",
     "text": [
      "1\n",
      "2\n",
      "a\n",
      "b\n",
      "1\n",
      "2\n",
      "1\n",
      "2\n",
      "1\n",
      "2\n",
      "1\n",
      "2\n",
      "1\n",
      "2\n",
      "1\n",
      "----------\n",
      "1\n",
      "3\n",
      "6\n",
      "10\n",
      "----------\n",
      "1\n",
      "2\n",
      "6\n",
      "24\n"
     ]
    }
   ],
   "source": [
    "import itertools\n",
    "\n",
    "# itertools.chain()\n",
    "for item in itertools.chain([1, 2], ['a', 'b']):\n",
    "    print(item)\n",
    "\n",
    "# itertools.cycle()\n",
    "count = 0\n",
    "for item in itertools.cycle([1, 2]):\n",
    "    print(item)\n",
    "    count += 1\n",
    "    if count > 10:\n",
    "        break\n",
    "\n",
    "print('-' * 10)\n",
    "# itertools.accumulate\n",
    "for item in itertools.accumulate([1, 2, 3, 4]):\n",
    "    print(item)\n",
    "\n",
    "print('-' * 10)\n",
    "for item in itertools.accumulate([1, 2, 3, 4], lambda a, b: a * b):\n",
    "    print(item)"
   ],
   "metadata": {
    "collapsed": false,
    "pycharm": {
     "name": "#%%\n"
    }
   }
  },
  {
   "cell_type": "code",
   "execution_count": 36,
   "outputs": [
    {
     "name": "stdout",
     "output_type": "stream",
     "text": [
      "{'A': 'Working men of all countries, unite!',\n",
      " 'B': \"That's one small step for [a] man, one giant leap for mankind.\",\n",
      " 'C': 'The government of the people, by the people, for the people.'}\n"
     ]
    }
   ],
   "source": [
    "# pprint()\n",
    "from pprint import pprint\n",
    "\n",
    "dialogue = {\n",
    "    'A': 'Working men of all countries, unite!',\n",
    "    'B': 'That\\'s one small step for [a] man, one giant leap for mankind.',\n",
    "    'C': 'The government of the people, by the people, for the people.'\n",
    "}\n",
    "pprint(dialogue)"
   ],
   "metadata": {
    "collapsed": false,
    "pycharm": {
     "name": "#%%\n"
    }
   }
  },
  {
   "cell_type": "code",
   "execution_count": 48,
   "outputs": [
    {
     "name": "stdout",
     "output_type": "stream",
     "text": [
      "3.246\n",
      "['mobile', 'plane', 922]\n",
      "[68, 35, 42, 44]\n",
      "56\n",
      "----------\n",
      "49\n",
      "68\n",
      "0.06223093562273563\n"
     ]
    }
   ],
   "source": [
    "\n",
    "# random.choice()\n",
    "from random import choice, sample, randint, random, randrange\n",
    "\n",
    "base = [67, 922, 'mobile', 'tv', 'plane', 3.246]\n",
    "\n",
    "print(choice(base))\n",
    "\n",
    "# random.sample()\n",
    "print(sample(base, 3))\n",
    "print(sample(range(100), 4))\n",
    "\n",
    "# random.randint()\n",
    "print(randint(45, 60))\n",
    "\n",
    "# random.randrange()\n",
    "print('-' * 10)\n",
    "print(randrange(38, 75))\n",
    "print(randrange(38, 75, 10))\n",
    "\n",
    "# random.random()\n",
    "print(random())\n"
   ],
   "metadata": {
    "collapsed": false,
    "pycharm": {
     "name": "#%%\n"
    }
   }
  }
 ],
 "metadata": {
  "kernelspec": {
   "display_name": "Python 3",
   "language": "python",
   "name": "python3"
  },
  "language_info": {
   "codemirror_mode": {
    "name": "ipython",
    "version": 2
   },
   "file_extension": ".py",
   "mimetype": "text/x-python",
   "name": "python",
   "nbconvert_exporter": "python",
   "pygments_lexer": "ipython2",
   "version": "2.7.6"
  }
 },
 "nbformat": 4,
 "nbformat_minor": 0
}